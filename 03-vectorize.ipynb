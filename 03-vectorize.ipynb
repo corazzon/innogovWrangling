{
 "cells": [
  {
   "cell_type": "code",
   "execution_count": 1,
   "metadata": {},
   "outputs": [
    {
     "data": {
      "text/plain": [
       "(118, 8)"
      ]
     },
     "execution_count": 1,
     "metadata": {},
     "output_type": "execute_result"
    }
   ],
   "source": [
    "import pandas as pd\n",
    "df = pd.read_csv(\"data/suggestion.csv\")\n",
    "\n",
    "df.shape"
   ]
  },
  {
   "cell_type": "code",
   "execution_count": 2,
   "metadata": {},
   "outputs": [],
   "source": [
    "# https://lovit.github.io/nlp/2018/04/16/krwordrank/\n",
    "from krwordrank.hangle import normalize\n",
    "\n",
    "texts = df['content'].fillna('')\n",
    "texts = [normalize(text, english=True, number=True) for text in texts]"
   ]
  },
  {
   "cell_type": "code",
   "execution_count": 3,
   "metadata": {},
   "outputs": [
    {
     "name": "stdout",
     "output_type": "stream",
     "text": [
      "scan vocabs ... \n",
      "num vocabs = 1420\n",
      "done = 10\n"
     ]
    }
   ],
   "source": [
    "from krwordrank.word import KRWordRank\n",
    "\n",
    "wordrank_extractor = KRWordRank(\n",
    "    min_count = 10, # 단어의 최소 출현 빈도수 (그래프 생성 시)\n",
    "    max_length = 10, # 단어의 최대 길이\n",
    "    verbose = True\n",
    "    )\n",
    "\n",
    "beta = 0.85    # PageRank의 decaying factor beta\n",
    "max_iter = 10\n",
    "\n",
    "keywords, rank, graph = wordrank_extractor.extract(texts, beta, max_iter)"
   ]
  },
  {
   "cell_type": "code",
   "execution_count": 4,
   "metadata": {
    "scrolled": true
   },
   "outputs": [
    {
     "name": "stdout",
     "output_type": "stream",
     "text": [
      "     합니다:\t5.8869\n",
      "      있는:\t5.7212\n",
      "      한다:\t5.6284\n",
      "     유치원:\t5.2886\n",
      "    있습니다:\t5.2644\n",
      "      교육:\t4.5119\n",
      "      경우:\t3.7315\n",
      "      하는:\t3.6856\n",
      "      대한:\t3.1027\n",
      "      설립:\t2.8839\n",
      "      하고:\t2.7539\n",
      "      생각:\t2.7424\n",
      "      있다:\t2.7169\n",
      "      사립:\t2.5572\n",
      "      필요:\t2.4635\n",
      "      또는:\t2.4528\n",
      "      현재:\t2.2076\n",
      "     정하는:\t2.1972\n",
      "      또한:\t2.1752\n",
      "      개선:\t2.1477\n",
      "      없는:\t2.1471\n",
      "      문제:\t2.1347\n",
      "      위한:\t2.1022\n",
      "     외국인:\t2.1018\n",
      "      지원:\t2.0843\n",
      "      따라:\t2.0823\n",
      "      국민:\t2.0777\n",
      "      위해:\t2.0227\n",
      "      많은:\t2.0147\n",
      "      따른:\t1.9835\n",
      "      개인:\t1.9013\n",
      "      제도:\t1.8711\n",
      "      정부:\t1.8623\n",
      "      이상:\t1.8316\n",
      "      의무:\t1.8296\n",
      "      있음:\t1.8093\n",
      "    적격심사:\t1.7538\n",
      "      제안:\t1.7387\n",
      "      사람:\t1.7329\n",
      "      운영:\t1.6110\n",
      "      관련:\t1.6034\n",
      "      이런:\t1.5941\n",
      "      하지:\t1.5764\n",
      "      해당:\t1.5645\n",
      "      학교:\t1.5510\n",
      "      모든:\t1.5509\n",
      "      무상:\t1.5508\n",
      "      사회:\t1.5422\n",
      "     그리고:\t1.4919\n",
      "      국가:\t1.4894\n",
      "      해야:\t1.4836\n",
      "      등의:\t1.4813\n",
      "      많이:\t1.4811\n",
      "     위하여:\t1.4540\n",
      "      이에:\t1.4483\n",
      "      20:\t1.4476\n",
      "      저는:\t1.4447\n",
      "     일자리:\t1.4196\n",
      "      자는:\t1.4124\n",
      "    같습니다:\t1.3980\n",
      "     있도록:\t1.3974\n",
      "      근로:\t1.3795\n",
      "      사용:\t1.3780\n",
      "      하면:\t1.3751\n",
      "      우리:\t1.3711\n",
      "      불법:\t1.3692\n",
      "      10:\t1.3503\n",
      "      되어:\t1.3496\n",
      "     청소년:\t1.3381\n",
      "      확대:\t1.3377\n",
      "      사업:\t1.3346\n",
      "      사항:\t1.3329\n",
      "      기준:\t1.3292\n",
      "      병설:\t1.3210\n",
      "      설치:\t1.2914\n",
      "      관한:\t1.2912\n",
      "      50:\t1.2868\n",
      "      모두:\t1.2691\n",
      "      하여:\t1.2677\n",
      "      지금:\t1.2530\n",
      "      것을:\t1.2514\n",
      "     그래서:\t1.2386\n",
      "      법인:\t1.2334\n",
      "      평가:\t1.2092\n",
      "      않고:\t1.2029\n",
      "      통해:\t1.1877\n",
      "      통한:\t1.1718\n",
      "      아닌:\t1.1488\n",
      "      시간:\t1.1278\n",
      "     공무원:\t1.1220\n",
      "   유아교육법:\t1.1174\n",
      "      아니:\t1.1163\n",
      "      한번:\t1.1134\n",
      "      인한:\t1.1055\n",
      "      기업:\t1.1054\n",
      "      인해:\t1.0863\n",
      "      으로:\t1.0855\n",
      "     봅니다:\t1.0797\n",
      "      등을:\t1.0747\n",
      "     것으로:\t1.0662\n"
     ]
    }
   ],
   "source": [
    "for word, r in sorted(keywords.items(), key=lambda x:x[1], reverse=True)[:100]:\n",
    "    print('%8s:\\t%.4f' % (word, r))"
   ]
  },
  {
   "cell_type": "code",
   "execution_count": 5,
   "metadata": {},
   "outputs": [],
   "source": [
    "from sklearn.feature_extraction.text import TfidfVectorizer\n",
    "\n",
    "vectorizer = TfidfVectorizer(\n",
    "    min_df=0,\n",
    "    max_df=1,\n",
    "    ngram_range=(1,1),\n",
    "    lowercase=True,\n",
    "    tokenizer=lambda x:x.split())\n",
    "\n",
    "X = vectorizer.fit_transform(df['content'].fillna(''))"
   ]
  },
  {
   "cell_type": "code",
   "execution_count": 6,
   "metadata": {},
   "outputs": [],
   "source": [
    "vocabulary = vectorizer.vocabulary_"
   ]
  },
  {
   "cell_type": "code",
   "execution_count": 7,
   "metadata": {},
   "outputs": [],
   "source": [
    "from collections import OrderedDict\n",
    "\n",
    "ordered = OrderedDict(sorted(vocabulary.items(), key=lambda t:t[1], reverse=True))"
   ]
  },
  {
   "cell_type": "code",
   "execution_count": 8,
   "metadata": {},
   "outputs": [
    {
     "data": {
      "text/plain": [
       "{'힘듭니다.직계가족이거나': 10245,\n",
       " '힘을': 10246,\n",
       " '힘을믿어보자.제발': 10247,\n",
       " '힘이': 10248,\n",
       " '\\ufeff\\u200b새': 10249,\n",
       " '\\ufeff★강동구도시관리공단': 10250,\n",
       " '\\ufeff★\\ufeff국가유공자☆\\u200b나\\ufeff라를': 10251,\n",
       " '\\ufeff각지자체나': 10252,\n",
       " '\\ufeff삼일혁명과': 10253,\n",
       " '\\ufeff신사임당의': 10254}"
      ]
     },
     "execution_count": 8,
     "metadata": {},
     "output_type": "execute_result"
    }
   ],
   "source": [
    "import itertools\n",
    "dict(itertools.islice(ordered.items(), 10))"
   ]
  },
  {
   "cell_type": "code",
   "execution_count": 9,
   "metadata": {},
   "outputs": [
    {
     "name": "stdout",
     "output_type": "stream",
     "text": [
      "[('\\ufeff신사임당의', 10254), ('\\ufeff삼일혁명과', 10253), ('\\ufeff각지자체나', 10252), ('\\ufeff★\\ufeff국가유공자☆\\u200b나\\ufeff라를', 10251), ('\\ufeff★강동구도시관리공단', 10250), ('\\ufeff\\u200b새', 10249), ('힘이', 10248), ('힘을믿어보자.제발', 10247), ('힘을', 10246), ('힘듭니다.직계가족이거나', 10245), ('힘듭니다.여러가지', 10244), ('힘듭니다.보훈대상자본인은', 10243), ('힘듭니다.', 10242), ('힘들지만', 10241), ('힘들어지고', 10240), ('힘들어서라고', 10239), ('힘들겠더군요오히려', 10238), ('힘들겠구나', 10237), ('힘들게', 10236), ('힘들거라', 10235), ('힘겨워', 10234), ('힘겨운', 10233), ('희한한', 10232), ('희망합니다.국민여가시간', 10231), ('희망하며', 10230), ('희망이라', 10229), ('희망이', 10228), ('희망센터를', 10227), ('희망기업과', 10226), ('희귀병으로', 10225), ('흡수할', 10224), ('흙이', 10223), ('흙을', 10222), ('흙냄새를', 10221), ('흘러버려', 10220), ('흘러내렸다.하늘에서의', 10219), ('흘러가도록', 10218), ('흔히', 10217), ('흔적을', 10216), ('흐름을', 10215), ('휴직중인', 10214), ('휴전국입니다.', 10213), ('휴원을', 10212), ('휴원도', 10211), ('휴업ㆍ폐업)규제공역무(공공서비스)계속의', 10210), ('휴업', 10209), ('휴대폰으로', 10208), ('휴대전화로', 10207), ('휭령하거나', 10206), ('휭령', 10205), ('휩니다.(한과목당', 10204), ('휙기적으로', 10203), ('훼손하면서', 10202), ('훼손하는', 10201), ('훌쩍', 10200), ('훌륭해서', 10199), ('후퇴시키고', 10198), ('후원을', 10197), ('후에는', 10196), ('후에', 10195), ('후반에', 10194), ('후1년씩', 10193), ('후,현업에', 10192), ('후,', 10191), ('효율적으로', 10190), ('효율적', 10189), ('효율이', 10188), ('효율성을', 10187), ('효용은', 10186), ('효력을', 10185), ('효과적인', 10184), ('횡령의', 10183), ('횟수와', 10182), ('횟수에대한부담감', 10181), ('횟수를', 10180), ('횟수로', 10179), ('횟수가', 10178), ('획득하게', 10177), ('획기적으로', 10176), ('획기적', 10175), ('회차별로', 10174), ('회의장에서는', 10173), ('회의장소를', 10172), ('회의장소', 10171), ('회의실을', 10170), ('회의를', 10169), ('회의는', 10168), ('회의공간을', 10167), ('회의공간에', 10166), ('회의공간', 10165), ('회의가', 10164), ('회상해봅시다.감사합니다.', 10163), ('회사에서', 10162), ('회사에게', 10161), ('회사에', 10160), ('회사를', 10159), ('회사까지', 10158), ('회사', 10157), ('회복할', 10156), ('회복세이며', 10155)]\n",
      "10255\n"
     ]
    }
   ],
   "source": [
    "from collections import Counter\n",
    "counter = Counter(vocabulary)\n",
    "\n",
    "print(counter.most_common(100))\n",
    "print(len(vocabulary))"
   ]
  },
  {
   "cell_type": "code",
   "execution_count": null,
   "metadata": {},
   "outputs": [],
   "source": []
  }
 ],
 "metadata": {
  "kernelspec": {
   "display_name": "Python 3",
   "language": "python",
   "name": "python3"
  },
  "language_info": {
   "codemirror_mode": {
    "name": "ipython",
    "version": 3
   },
   "file_extension": ".py",
   "mimetype": "text/x-python",
   "name": "python",
   "nbconvert_exporter": "python",
   "pygments_lexer": "ipython3",
   "version": "3.6.1"
  }
 },
 "nbformat": 4,
 "nbformat_minor": 2
}
