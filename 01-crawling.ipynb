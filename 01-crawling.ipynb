{
 "cells": [
  {
   "cell_type": "markdown",
   "metadata": {},
   "source": [
    "# 정부혁신1번가 - 정부혁신 홈페이지\n",
    "* 정부혁신 제안(목록) > 정부혁신국민포럼 \n",
    "\n",
    "출처 : https://www.innogov.go.kr/ucms/ogp/sug/list.do?menuNo=300011\n",
    "\n",
    "```\n",
    "ㆍ다함께 잘 사는 나라, 늘 혁신하는 정부를 위한 의견이 있다면 자유롭게 제안해 주세요.\n",
    "ㆍ내가 낸 정부혁신제안이 추천 30표를 받으면 토론이 진행됩니다.\n",
    "ㆍ추천 30표를 받지 못한 경우에도 정부혁신국민포럼 운영위원단의 논의를 통해 중요성과 시급성이 높다면 토론으로 바로 이관될 수 있습니다.\n",
    "ㆍ타인의 명예를 훼손하는 내용 혹은 허위사실, 특정집단에 대한 혐오 표현 등 부적절한 제안은 관리자에 의해 숨김 처리 혹은 삭제될 수 있습니다.\n",
    "```\n",
    "\n",
    "## 크롤링 전 확인 하기\n",
    "* https://www.innogov.go.kr/robots.txt\n",
    "* 저작권 확인하기"
   ]
  },
  {
   "cell_type": "code",
   "execution_count": null,
   "metadata": {},
   "outputs": [],
   "source": [
    "# 필요한 도구를 불러온다.\n",
    "# 파이썬에서 사용할 수 있는 엑셀과 유사한 데이터분석 도구\n",
    "import pandas as pd\n",
    "# 매우 작은 브라우저로 웹사이트의 내용과 정보를 불러올 수 있습니다.\n",
    "import requests\n",
    "# request로 가져온 웹사이트의 html 태그를 파싱하는데 사용합니다.\n",
    "from bs4 import BeautifulSoup as bs\n",
    "# 랜덤숫자를 생성한다.\n",
    "import random\n",
    "import time\n",
    "# 대량 데이터 처리시 진행 상황을 표시합니다.\n",
    "from tqdm import tqdm, trange\n",
    "# 정규표현식\n",
    "import re"
   ]
  },
  {
   "cell_type": "markdown",
   "metadata": {},
   "source": [
    "## 정부혁신 국민포럼 페이지 가져오기\n",
    "* 전체 내용을 가져오기 위해 목록에 있는 href 태그 안에 있는 url을 가져옵니다."
   ]
  },
  {
   "cell_type": "code",
   "execution_count": null,
   "metadata": {
    "scrolled": true
   },
   "outputs": [],
   "source": [
    "pnum = 1\n",
    "year_month = 201906\n",
    "\n",
    "base_url = f\"https://www.innogov.go.kr/ucms/ogp/sug/list.do?pnum={pnum}&menuNo=300011&sugMonthTp={year_month}&orderKey=registDtDesc\"\n",
    "base_url"
   ]
  },
  {
   "cell_type": "markdown",
   "metadata": {},
   "source": [
    "### URL이 있는 태그의 위치\n",
    "* 브라우저의 Inspect 기능을 통해 링크에 해당되는 selector를 가져오기\n",
    "* Copy -> Copy selector를 통해 해당 태그의 위치를 가져옴"
   ]
  },
  {
   "cell_type": "code",
   "execution_count": null,
   "metadata": {},
   "outputs": [],
   "source": [
    "#content > div.suggestion_list > ul > li > dl > dt > p > a"
   ]
  },
  {
   "cell_type": "markdown",
   "metadata": {},
   "source": [
    "### 함수로 구현하기 전에 미리 원하는 정보를 가져와서 출력해 봄"
   ]
  },
  {
   "cell_type": "code",
   "execution_count": null,
   "metadata": {},
   "outputs": [],
   "source": [
    "response = requests.get( base_url )\n",
    "response\n",
    "\n",
    "if response.status_code == 200:\n",
    "    html = bs(response.text, 'html.parser')\n",
    "    # 소스코드를 제대로 가져왔는지 확인해 봅니다.\n",
    "    tags = html.select('#content > div.suggestion_list > ul')[0].find_all('a')\n",
    "    # print(tags)\n",
    "    for tag in tags:\n",
    "        print(tag['href'])"
   ]
  },
  {
   "cell_type": "markdown",
   "metadata": {},
   "source": [
    "### 위에서 실습한 내용을 페이지 번호를 추가해 가면서 크롤링해 오는 함수를 작성"
   ]
  },
  {
   "cell_type": "code",
   "execution_count": null,
   "metadata": {},
   "outputs": [],
   "source": [
    "# 연-월별 전체 제안 목록을 가져옵니다.\n",
    "def get_suggestion_list(pnum):\n",
    "    # print(f'year_month : {year_month}, pnum: {pnum}')\n",
    "    base_url = f\"https://www.innogov.go.kr/ucms/ogp/sug/list.do?pnum={pnum}&menuNo=300011&orderKey=registDtDesc\"\n",
    "    # base_url 페이지를 받아온다.\n",
    "    response = requests.get( base_url )\n",
    "    # status_code 가 200 OK 일 때 아래의 코드를 실행한다.\n",
    "    if response.status_code == 200:\n",
    "        # 웹페이지의 내용을 가져왔다면 뷰티풀숩을 통해 html 태그를 가져온다.\n",
    "        html = bs(response.text, 'html.parser')\n",
    "        # html 태그 내용 중 아래의 selector를 통해 목록에 있는 다른 게시글을 가져오도록 한다.\n",
    "        tags = html.select('#content > div.suggestion_list > ul')[0].find_all('a')\n",
    "        # tags 의 내용이 없다면 suggestion_list 를 반환한다.\n",
    "        if not tags :\n",
    "            return(suggestion_list)\n",
    "        else :\n",
    "            # tags 에서 다른 게시글을 가져와 suggestion_list 에 담아준다.\n",
    "            for tag in tags:\n",
    "                suggestion_list.append(tag['href'])\n",
    "        pnum += 1\n",
    "        # 페이지번호를 하나씩 더해서 재귀호출을 합니다.\n",
    "        get_suggestion_list(pnum)\n",
    "        print(pnum)\n",
    "    else:\n",
    "        return(suggestion_list)"
   ]
  },
  {
   "cell_type": "code",
   "execution_count": null,
   "metadata": {},
   "outputs": [],
   "source": [
    "# 목록의 내용만 크롤링 해옵니다.\n",
    "# 목록의 링크 값을 가져와 suggestion_list 리스트에 담아줍니다.\n",
    "suggestion_list = []\n",
    "pnum = 1\n",
    "\n",
    "get_suggestion_list(pnum)\n",
    "suggestion_list    "
   ]
  },
  {
   "cell_type": "markdown",
   "metadata": {},
   "source": [
    "### 제대로 href 태그의 링크를 가져왔는지 확인하기 "
   ]
  },
  {
   "cell_type": "code",
   "execution_count": null,
   "metadata": {
    "scrolled": true
   },
   "outputs": [],
   "source": [
    "print(len(suggestion_list))\n",
    "\n",
    "suggestion_list[:3]"
   ]
  },
  {
   "cell_type": "markdown",
   "metadata": {},
   "source": [
    "## 게시물 내용 가져오기\n",
    "* href 목록을 통해 게시물의 내용을 가져오기"
   ]
  },
  {
   "cell_type": "code",
   "execution_count": null,
   "metadata": {},
   "outputs": [],
   "source": [
    "url = '/ucms/ogp/sug/view.do?menuNo=300011&sgId=204&pnum=1'\n",
    "base_url = f\"https://www.innogov.go.kr{url}\"\n",
    "response = requests.get( base_url )\n",
    "if response.status_code == 200:\n",
    "    html = bs(response.text, 'html.parser')\n",
    "    #content > div.vveiw_box1 > dl > dt\n",
    "    title = html.select(\n",
    "            '#content > div.vveiw_box1 > dl > dt')[0].get_text(strip=True)\n",
    "    print(title)"
   ]
  },
  {
   "cell_type": "code",
   "execution_count": null,
   "metadata": {},
   "outputs": [],
   "source": [
    "desc = html.select(\n",
    "            '#content > div.vveiw_box1 > div.vveiw_name > ul > li > dl > dd')\n",
    "category = desc[0].get_text(strip=True)\n",
    "print(desc[0].get_text(strip=True))\n",
    "print(desc[1].get_text(strip=True))\n",
    "print(desc[2].get_text(strip=True))\n",
    "print(desc[3].get_text(strip=True))"
   ]
  },
  {
   "cell_type": "code",
   "execution_count": null,
   "metadata": {},
   "outputs": [],
   "source": [
    "# id값을 저장해 주기 위해 미리 추출 해보기\n",
    "u = 'view.do?menuNo=300011&sgId=150&pnum=1'\n",
    "u.split('=')[2].split('&')[0]"
   ]
  },
  {
   "cell_type": "code",
   "execution_count": null,
   "metadata": {},
   "outputs": [],
   "source": [
    "# 목록 리스트에 있는 url를 넘겨주면 내용을 크롤링 해옵니다.\n",
    "def get_suggestion_content(url):\n",
    "    article = []\n",
    "    base_url = f\"https://www.innogov.go.kr/{url}\"\n",
    "    response = requests.get( base_url )\n",
    "    if response.status_code == 200:\n",
    "        html = bs(response.text, 'html.parser')\n",
    "        # 제목을 가져옵니다.\n",
    "        title = html.select(\n",
    "            '#content > div.vveiw_box1 > dl > dt')[0].get_text(strip=True)\n",
    "        # dd 태그에 있는 내용을 가져와서 카테고리, 시작일, 마감일, 제안인 정보를 추출합니다.\n",
    "        desc = html.select(\n",
    "            '#content > div.vveiw_box1 > div.vveiw_name > ul > li > dl > dd')\n",
    "        category = desc[0].get_text(strip=True)\n",
    "        content = html.select(\n",
    "            '#content > div.vveiw_box1 > div.vveiw_cont > div > pre')[0].get_text(strip=True)\n",
    "        start = desc[1].get_text(strip=True)\n",
    "        end = desc[2].get_text(strip=True)\n",
    "        author = desc[3].get_text(strip=True)\n",
    "        # 추천인원을 가져옵니다.\n",
    "        vote = html.select('#counter')[0].get_text(strip=True)\n",
    "        # 해당 게시물의 Id 값을 가져옵니다.\n",
    "        sgId = url.split('=')[2].split('&')[0]\n",
    "        \n",
    "        article.append(sgId)\n",
    "        article.append(title)\n",
    "        article.append(category)\n",
    "        article.append(content)\n",
    "        article.append(start)\n",
    "        article.append(end)\n",
    "        article.append(vote)\n",
    "        article.append(author)\n",
    "        #print(article)\n",
    "        \n",
    "#         time.sleep(random.randint(1,2))\n",
    "        return article"
   ]
  },
  {
   "cell_type": "markdown",
   "metadata": {},
   "source": [
    "### 각 게시물의 세부내용 가져오기"
   ]
  },
  {
   "cell_type": "code",
   "execution_count": null,
   "metadata": {},
   "outputs": [],
   "source": [
    "data = []\n",
    "# tqdm 을 사용해서 어느정도 가져왔는지 확인하기\n",
    "for i, suggestion in tqdm(enumerate(suggestion_list)):\n",
    "    # suggestion_list 에 있는 각 게시물에 접근해서 카테고리, 시작일, 마감일, 제안인, 제목, 내용 등을 가져옵니다.\n",
    "    s = get_suggestion_content(suggestion)\n",
    "    data.append(s)"
   ]
  },
  {
   "cell_type": "code",
   "execution_count": null,
   "metadata": {},
   "outputs": [],
   "source": [
    "column_names = [\"sgId\", \"title\", \"category\", \"content\", \"start\", \"end\", \"vote\", \"author\"]\n",
    "column_names"
   ]
  },
  {
   "cell_type": "code",
   "execution_count": null,
   "metadata": {},
   "outputs": [],
   "source": [
    "# data"
   ]
  },
  {
   "cell_type": "code",
   "execution_count": null,
   "metadata": {},
   "outputs": [],
   "source": [
    "data = pd.DataFrame(data, columns=column_names)\n",
    "data.head()"
   ]
  },
  {
   "cell_type": "code",
   "execution_count": null,
   "metadata": {},
   "outputs": [],
   "source": [
    "data.tail()"
   ]
  },
  {
   "cell_type": "code",
   "execution_count": null,
   "metadata": {},
   "outputs": [],
   "source": [
    "data[\"category\"].value_counts()"
   ]
  },
  {
   "cell_type": "code",
   "execution_count": null,
   "metadata": {},
   "outputs": [],
   "source": [
    "data.to_csv(\"data/suggestion.csv\", index=False)"
   ]
  },
  {
   "cell_type": "code",
   "execution_count": null,
   "metadata": {},
   "outputs": [],
   "source": [
    "pd.read_csv(\"data/suggestion.csv\").head()"
   ]
  },
  {
   "cell_type": "code",
   "execution_count": null,
   "metadata": {},
   "outputs": [],
   "source": [
    "data.shape"
   ]
  },
  {
   "cell_type": "code",
   "execution_count": null,
   "metadata": {},
   "outputs": [],
   "source": []
  }
 ],
 "metadata": {
  "kernelspec": {
   "display_name": "Python 3",
   "language": "python",
   "name": "python3"
  },
  "language_info": {
   "codemirror_mode": {
    "name": "ipython",
    "version": 3
   },
   "file_extension": ".py",
   "mimetype": "text/x-python",
   "name": "python",
   "nbconvert_exporter": "python",
   "pygments_lexer": "ipython3",
   "version": "3.6.1"
  },
  "toc": {
   "base_numbering": 1,
   "nav_menu": {},
   "number_sections": true,
   "sideBar": true,
   "skip_h1_title": false,
   "title_cell": "Table of Contents",
   "title_sidebar": "Contents",
   "toc_cell": false,
   "toc_position": {},
   "toc_section_display": true,
   "toc_window_display": false
  },
  "varInspector": {
   "cols": {
    "lenName": 16,
    "lenType": 16,
    "lenVar": 40
   },
   "kernels_config": {
    "python": {
     "delete_cmd_postfix": "",
     "delete_cmd_prefix": "del ",
     "library": "var_list.py",
     "varRefreshCmd": "print(var_dic_list())"
    },
    "r": {
     "delete_cmd_postfix": ") ",
     "delete_cmd_prefix": "rm(",
     "library": "var_list.r",
     "varRefreshCmd": "cat(var_dic_list()) "
    }
   },
   "types_to_exclude": [
    "module",
    "function",
    "builtin_function_or_method",
    "instance",
    "_Feature"
   ],
   "window_display": false
  }
 },
 "nbformat": 4,
 "nbformat_minor": 2
}
