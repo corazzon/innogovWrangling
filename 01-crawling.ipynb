{
 "cells": [
  {
   "cell_type": "markdown",
   "metadata": {},
   "source": [
    "# 정부혁신1번가 - 정부혁신 홈페이지\n",
    "* 정부혁신 제안(목록) > 정부혁신국민포럼 \n",
    "\n",
    "출처 : https://www.innogov.go.kr/ucms/ogp/sug/list.do?menuNo=300011\n",
    "\n",
    "```\n",
    "ㆍ내가 낸 정부혁신 제안이 추천 100표 이상 얻으면, 자동으로 2단계 토론으로 진행됩니다.\n",
    "ㆍ정책제안이 100표 이상 추천을 받지 못한 경우에도 정부혁신국민포럼 운영위원단 논의를 통해 중요하고 시급한 현안으로 결정된 경우 다음 단계인 토론으로 \n",
    "   진행될 수 있습니다.\n",
    "ㆍ제안기간은 90일입니다.\n",
    "ㆍ욕설 및 비속어를 사용한 제안은 관리자에 의해 삭제 될 수 있습니다.\n",
    "ㆍ유해하며 폭력적이고 선정적인 내용을 담은 제안은 관리자에 의해 삭제 될 수 있습니다.\n",
    "ㆍ한번 작성된 제안은 삭제가 불가능합니다.\n",
    "ㆍ허위 사실이나 타인의 명예를 훼손하는 내용이 포함된 제안은 관리자에 의해 '숨김'처리 또는 삭제될 수 있습니다.\n",
    "```\n",
    "\n",
    "## 크롤링 전 확인 하기\n",
    "* https://www.innogov.go.kr/robots.txt\n",
    "* 저작권 확인하기"
   ]
  },
  {
   "cell_type": "code",
   "execution_count": 1,
   "metadata": {},
   "outputs": [],
   "source": [
    "# 필요한 도구를 불러온다.\n",
    "# 파이썬에서 사용할 수 있는 엑셀과 유사한 데이터분석 도구\n",
    "import pandas as pd\n",
    "# 매우 작은 브라우저로 웹사이트의 내용과 정보를 불러올 수 있습니다.\n",
    "import requests\n",
    "# request로 가져온 웹사이트의 html 태그를 파싱하는데 사용합니다.\n",
    "from bs4 import BeautifulSoup as bs\n",
    "# 랜덤숫자를 생성한다.\n",
    "import random\n",
    "import time\n",
    "# 대량 데이터 처리시 진행 상황을 표시합니다.\n",
    "from tqdm import tqdm, trange\n",
    "# 정규표현식\n",
    "import re"
   ]
  },
  {
   "cell_type": "code",
   "execution_count": 2,
   "metadata": {},
   "outputs": [],
   "source": [
    "# 연-월별 전체 제안 목록을 가져옵니다.\n",
    "def get_suggestion_list(year_month, pnum):\n",
    "    # print(f'year_month : {year_month}, pnum: {pnum}')\n",
    "    base_url = f\"https://www.innogov.go.kr/ucms/ogp/sug/list.do?pnum={pnum}&menuNo=300011&sugMonthTp={year_month}&orderKey=registDtDesc\"\n",
    "    # base_url 페이지를 받아온다.\n",
    "    response = requests.get( base_url )\n",
    "    # status_code 가 200 OK 일 때 아래의 코드를 실행한다.\n",
    "    if response.status_code == 200:\n",
    "        # 웹페이지의 내용을 가져왔다면 뷰티풀숩을 통해 html 태그를 가져온다.\n",
    "        html = bs(response.text, 'html.parser')\n",
    "        # html 태그 내용 중 아래의 selector를 통해 목록에 있는 다른 게시글을 가져오도록 한다.\n",
    "        tags = html.select('#content > div.suggestion_list > ul')[0].find_all('a')\n",
    "        # tags 의 내용이 없다면 suggestion_list 를 반환한다.\n",
    "        if not tags :\n",
    "            return(suggestion_list)\n",
    "        else :\n",
    "            # tags 에서 다른 게시글을 가져와 suggestion_list 에 담아준다.\n",
    "            for tag in tags:\n",
    "                suggestion_list.append(tag['href'])\n",
    "        pnum += 1\n",
    "        # 페이지번호를 하나씩 더해서 재귀호출을 합니다.\n",
    "        get_suggestion_list(year_month, pnum)\n",
    "    else:\n",
    "        return(suggestion_list)"
   ]
  },
  {
   "cell_type": "code",
   "execution_count": 3,
   "metadata": {},
   "outputs": [
    {
     "name": "stdout",
     "output_type": "stream",
     "text": [
      "['201807', '201808', '201809', '201810', '201811', '201812', '201901', '201902', '201903', '201904']\n"
     ]
    }
   ],
   "source": [
    "duration = []\n",
    "# 게시물 목록을 가져오기 위해 파라메터에 넘겨줄 값을 리스트로 만듭니다.\n",
    "# 2018년 7월부터 12월까지를 리스트로 생성합니다.\n",
    "# 좋은 방법은 아니니 이 코드를 보고 개선해 보시면 좋을 것 같아요.\n",
    "for month in range(7, 13):\n",
    "    if month < 10:\n",
    "        month = f'0{month}'\n",
    "    duration.append(f'2018{month}')\n",
    "\n",
    "for month in range(1, 5):\n",
    "    if month < 10:\n",
    "        month = f'0{month}'\n",
    "    duration.append(f'2019{month}')\n",
    "    \n",
    "print(duration)"
   ]
  },
  {
   "cell_type": "code",
   "execution_count": 4,
   "metadata": {},
   "outputs": [
    {
     "name": "stderr",
     "output_type": "stream",
     "text": [
      "100%|██████████| 10/10 [00:10<00:00,  1.07s/it]\n"
     ]
    }
   ],
   "source": [
    "# 목록의 내용만 크롤링 해옵니다.\n",
    "# 목록의 링크 값을 가져와 리스트에 담아줍니다.\n",
    "suggestion_list = []\n",
    "pnum = 1\n",
    "\n",
    "for year_month in tqdm(duration):\n",
    "    get_suggestion_list(year_month, pnum)\n",
    "    suggestion_list    "
   ]
  },
  {
   "cell_type": "code",
   "execution_count": 5,
   "metadata": {},
   "outputs": [
    {
     "name": "stdout",
     "output_type": "stream",
     "text": [
      "133\n"
     ]
    },
    {
     "data": {
      "text/plain": [
       "['/ucms/ogp/sug/view.do?menuNo=300011&sgId=1&pnum=1',\n",
       " '/ucms/ogp/sug/view.do?menuNo=300011&sgId=28&pnum=1',\n",
       " '/ucms/ogp/sug/view.do?menuNo=300011&sgId=26&pnum=1']"
      ]
     },
     "execution_count": 5,
     "metadata": {},
     "output_type": "execute_result"
    }
   ],
   "source": [
    "print(len(suggestion_list))\n",
    "\n",
    "suggestion_list[:3]"
   ]
  },
  {
   "cell_type": "code",
   "execution_count": 6,
   "metadata": {},
   "outputs": [
    {
     "data": {
      "text/plain": [
       "'150'"
      ]
     },
     "execution_count": 6,
     "metadata": {},
     "output_type": "execute_result"
    }
   ],
   "source": [
    "# id 추출 미리 해보기\n",
    "u = 'view.do?menuNo=300011&sgId=150&pnum=1'\n",
    "u.split('=')[2].split('&')[0]"
   ]
  },
  {
   "cell_type": "code",
   "execution_count": 7,
   "metadata": {},
   "outputs": [],
   "source": [
    "# 목록 리스트에 있는 url를 넘겨주면 내용을 크롤링 해옵니다.\n",
    "def get_suggestion_content(url):\n",
    "    article = []\n",
    "    base_url = f\"https://www.innogov.go.kr/{url}\"\n",
    "    response = requests.get( base_url )\n",
    "    if response.status_code == 200:\n",
    "        html = bs(response.text, 'html.parser')\n",
    "        # 제목을 가져옵니다.\n",
    "        title = html.select(\n",
    "            '#content > div.vveiw_box1 > dl > dt')[0].get_text(strip=True)\n",
    "        # dd 태그에 있는 내용을 가져와서 카테고리, 시작일, 마감일, 제안인 정보를 추출합니다.\n",
    "        desc = html.select(\n",
    "            '#content > div.vveiw_box1 > div.vveiw_name > ul > li > dl > dd')\n",
    "        category = desc[0].get_text(strip=True)\n",
    "        content = html.select(\n",
    "            '#content > div.vveiw_box1 > div.vveiw_cont > div > pre')[0].get_text(strip=True)\n",
    "        start = desc[1].get_text(strip=True)\n",
    "        end = desc[2].get_text(strip=True)\n",
    "        author = desc[3].get_text(strip=True)\n",
    "        # 추천인원을 가져옵니다.\n",
    "        vote = html.select('#counter')[0].get_text(strip=True)\n",
    "        # 해당 게시물의 Id 값을 가져옵니다.\n",
    "        sgId = url.split('=')[2].split('&')[0]\n",
    "        \n",
    "        article.append(sgId)\n",
    "        article.append(title)\n",
    "        article.append(category)\n",
    "        article.append(content)\n",
    "        article.append(start)\n",
    "        article.append(end)\n",
    "        article.append(vote)\n",
    "        article.append(author)\n",
    "        #print(article)\n",
    "        \n",
    "        time.sleep(random.randint(1,2))\n",
    "        return article"
   ]
  },
  {
   "cell_type": "code",
   "execution_count": 8,
   "metadata": {},
   "outputs": [
    {
     "name": "stderr",
     "output_type": "stream",
     "text": [
      "133it [03:52,  1.75s/it]\n"
     ]
    }
   ],
   "source": [
    "data = []\n",
    "for i, suggestion in tqdm(enumerate(suggestion_list)):\n",
    "    # suggestion_list 에 있는 각 게시물에 접근해서 카테고리, 시작일, 마감일, 제안인, 제목, 내용 등을 가져옵니다.\n",
    "    s = get_suggestion_content(suggestion)\n",
    "    data.append(s)"
   ]
  },
  {
   "cell_type": "code",
   "execution_count": 9,
   "metadata": {},
   "outputs": [
    {
     "data": {
      "text/plain": [
       "['sgId', 'title', 'category', 'content', 'start', 'end', 'vote', 'author']"
      ]
     },
     "execution_count": 9,
     "metadata": {},
     "output_type": "execute_result"
    }
   ],
   "source": [
    "column_names = [\"sgId\", \"title\", \"category\", \"content\", \"start\", \"end\", \"vote\", \"author\"]\n",
    "column_names"
   ]
  },
  {
   "cell_type": "code",
   "execution_count": 10,
   "metadata": {},
   "outputs": [],
   "source": [
    "# data"
   ]
  },
  {
   "cell_type": "code",
   "execution_count": 11,
   "metadata": {},
   "outputs": [
    {
     "data": {
      "text/html": [
       "<div>\n",
       "<style scoped>\n",
       "    .dataframe tbody tr th:only-of-type {\n",
       "        vertical-align: middle;\n",
       "    }\n",
       "\n",
       "    .dataframe tbody tr th {\n",
       "        vertical-align: top;\n",
       "    }\n",
       "\n",
       "    .dataframe thead th {\n",
       "        text-align: right;\n",
       "    }\n",
       "</style>\n",
       "<table border=\"1\" class=\"dataframe\">\n",
       "  <thead>\n",
       "    <tr style=\"text-align: right;\">\n",
       "      <th></th>\n",
       "      <th>sgId</th>\n",
       "      <th>title</th>\n",
       "      <th>category</th>\n",
       "      <th>content</th>\n",
       "      <th>start</th>\n",
       "      <th>end</th>\n",
       "      <th>vote</th>\n",
       "      <th>author</th>\n",
       "    </tr>\n",
       "  </thead>\n",
       "  <tbody>\n",
       "    <tr>\n",
       "      <th>0</th>\n",
       "      <td>1</td>\n",
       "      <td>어린이집 차량내 어린이 질식사고 등에 대한 상세한 대책이 필요하다.</td>\n",
       "      <td>안전</td>\n",
       "      <td>최근 동두천 어린이집 차량내 어린이 질식사고가 발생하여, 이에 대한 여러가지 대책을...</td>\n",
       "      <td>2018.07.24</td>\n",
       "      <td>2018.08.23</td>\n",
       "      <td>14</td>\n",
       "      <td>헌비</td>\n",
       "    </tr>\n",
       "    <tr>\n",
       "      <th>1</th>\n",
       "      <td>28</td>\n",
       "      <td>성희롱 없는 세상</td>\n",
       "      <td>안전</td>\n",
       "      <td>현재 우리 사회에서 익숙해진 대형 범죄가 있습니다.바로 몰래카메라입니다.현재 공공건...</td>\n",
       "      <td>2018.08.31</td>\n",
       "      <td>2018.11.28</td>\n",
       "      <td>3</td>\n",
       "      <td>장대연</td>\n",
       "    </tr>\n",
       "    <tr>\n",
       "      <th>2</th>\n",
       "      <td>26</td>\n",
       "      <td>행정안전부소속의 온라인 일자리뱅크운영</td>\n",
       "      <td>상생협력</td>\n",
       "      <td>정부각부처에서는 제각각 일자리창출에 혼신의 힘을 쏟고 있습니다.문제는 제각각하다보니...</td>\n",
       "      <td>2018.08.28</td>\n",
       "      <td>2018.11.25</td>\n",
       "      <td>4</td>\n",
       "      <td>생태조성</td>\n",
       "    </tr>\n",
       "    <tr>\n",
       "      <th>3</th>\n",
       "      <td>25</td>\n",
       "      <td>농어업,농어촌 특별위원회 설치</td>\n",
       "      <td>국민참여</td>\n",
       "      <td>청년실업률이 높아지고 일자리 찾기는 점점 어려워지면서농업과 농촌으로 눈을 돌리는 분...</td>\n",
       "      <td>2018.08.19</td>\n",
       "      <td>2018.11.16</td>\n",
       "      <td>15</td>\n",
       "      <td>생태조성</td>\n",
       "    </tr>\n",
       "    <tr>\n",
       "      <th>4</th>\n",
       "      <td>24</td>\n",
       "      <td>혁신적인 귀농창업교육의 패러다임 제시</td>\n",
       "      <td>공동체</td>\n",
       "      <td>농촌의 생력을 불어넣을 대안으로 귀농귀촌지원정책은 정부,지자체,농협등의 관련기관들이...</td>\n",
       "      <td>2018.08.16</td>\n",
       "      <td>2018.11.13</td>\n",
       "      <td>5</td>\n",
       "      <td>생태조성</td>\n",
       "    </tr>\n",
       "  </tbody>\n",
       "</table>\n",
       "</div>"
      ],
      "text/plain": [
       "  sgId                                  title category  \\\n",
       "0    1  어린이집 차량내 어린이 질식사고 등에 대한 상세한 대책이 필요하다.       안전   \n",
       "1   28                              성희롱 없는 세상       안전   \n",
       "2   26                   행정안전부소속의 온라인 일자리뱅크운영     상생협력   \n",
       "3   25                       농어업,농어촌 특별위원회 설치     국민참여   \n",
       "4   24                   혁신적인 귀농창업교육의 패러다임 제시      공동체   \n",
       "\n",
       "                                             content       start         end  \\\n",
       "0  최근 동두천 어린이집 차량내 어린이 질식사고가 발생하여, 이에 대한 여러가지 대책을...  2018.07.24  2018.08.23   \n",
       "1  현재 우리 사회에서 익숙해진 대형 범죄가 있습니다.바로 몰래카메라입니다.현재 공공건...  2018.08.31  2018.11.28   \n",
       "2  정부각부처에서는 제각각 일자리창출에 혼신의 힘을 쏟고 있습니다.문제는 제각각하다보니...  2018.08.28  2018.11.25   \n",
       "3  청년실업률이 높아지고 일자리 찾기는 점점 어려워지면서농업과 농촌으로 눈을 돌리는 분...  2018.08.19  2018.11.16   \n",
       "4  농촌의 생력을 불어넣을 대안으로 귀농귀촌지원정책은 정부,지자체,농협등의 관련기관들이...  2018.08.16  2018.11.13   \n",
       "\n",
       "  vote author  \n",
       "0   14     헌비  \n",
       "1    3    장대연  \n",
       "2    4   생태조성  \n",
       "3   15   생태조성  \n",
       "4    5   생태조성  "
      ]
     },
     "execution_count": 11,
     "metadata": {},
     "output_type": "execute_result"
    }
   ],
   "source": [
    "data = pd.DataFrame(data, columns=column_names)\n",
    "data.head()"
   ]
  },
  {
   "cell_type": "code",
   "execution_count": 12,
   "metadata": {},
   "outputs": [
    {
     "data": {
      "text/plain": [
       "기타       24\n",
       "일반행정     22\n",
       "보건복지     19\n",
       "안전       16\n",
       "인권/평등    12\n",
       "상생협력     10\n",
       "국민참여      8\n",
       "환경        7\n",
       "반부패청렴     6\n",
       "사회통합      6\n",
       "공동체       3\n",
       "Name: category, dtype: int64"
      ]
     },
     "execution_count": 12,
     "metadata": {},
     "output_type": "execute_result"
    }
   ],
   "source": [
    "data[\"category\"].value_counts()"
   ]
  },
  {
   "cell_type": "code",
   "execution_count": 13,
   "metadata": {},
   "outputs": [],
   "source": [
    "data.to_csv(\"data/suggestion.csv\", index=False)"
   ]
  },
  {
   "cell_type": "code",
   "execution_count": 14,
   "metadata": {},
   "outputs": [
    {
     "data": {
      "text/html": [
       "<div>\n",
       "<style scoped>\n",
       "    .dataframe tbody tr th:only-of-type {\n",
       "        vertical-align: middle;\n",
       "    }\n",
       "\n",
       "    .dataframe tbody tr th {\n",
       "        vertical-align: top;\n",
       "    }\n",
       "\n",
       "    .dataframe thead th {\n",
       "        text-align: right;\n",
       "    }\n",
       "</style>\n",
       "<table border=\"1\" class=\"dataframe\">\n",
       "  <thead>\n",
       "    <tr style=\"text-align: right;\">\n",
       "      <th></th>\n",
       "      <th>sgId</th>\n",
       "      <th>title</th>\n",
       "      <th>category</th>\n",
       "      <th>content</th>\n",
       "      <th>start</th>\n",
       "      <th>end</th>\n",
       "      <th>vote</th>\n",
       "      <th>author</th>\n",
       "    </tr>\n",
       "  </thead>\n",
       "  <tbody>\n",
       "    <tr>\n",
       "      <th>0</th>\n",
       "      <td>1</td>\n",
       "      <td>어린이집 차량내 어린이 질식사고 등에 대한 상세한 대책이 필요하다.</td>\n",
       "      <td>안전</td>\n",
       "      <td>최근 동두천 어린이집 차량내 어린이 질식사고가 발생하여, 이에 대한 여러가지 대책을...</td>\n",
       "      <td>2018.07.24</td>\n",
       "      <td>2018.08.23</td>\n",
       "      <td>14</td>\n",
       "      <td>헌비</td>\n",
       "    </tr>\n",
       "    <tr>\n",
       "      <th>1</th>\n",
       "      <td>28</td>\n",
       "      <td>성희롱 없는 세상</td>\n",
       "      <td>안전</td>\n",
       "      <td>현재 우리 사회에서 익숙해진 대형 범죄가 있습니다.바로 몰래카메라입니다.현재 공공건...</td>\n",
       "      <td>2018.08.31</td>\n",
       "      <td>2018.11.28</td>\n",
       "      <td>3</td>\n",
       "      <td>장대연</td>\n",
       "    </tr>\n",
       "    <tr>\n",
       "      <th>2</th>\n",
       "      <td>26</td>\n",
       "      <td>행정안전부소속의 온라인 일자리뱅크운영</td>\n",
       "      <td>상생협력</td>\n",
       "      <td>정부각부처에서는 제각각 일자리창출에 혼신의 힘을 쏟고 있습니다.문제는 제각각하다보니...</td>\n",
       "      <td>2018.08.28</td>\n",
       "      <td>2018.11.25</td>\n",
       "      <td>4</td>\n",
       "      <td>생태조성</td>\n",
       "    </tr>\n",
       "    <tr>\n",
       "      <th>3</th>\n",
       "      <td>25</td>\n",
       "      <td>농어업,농어촌 특별위원회 설치</td>\n",
       "      <td>국민참여</td>\n",
       "      <td>청년실업률이 높아지고 일자리 찾기는 점점 어려워지면서농업과 농촌으로 눈을 돌리는 분...</td>\n",
       "      <td>2018.08.19</td>\n",
       "      <td>2018.11.16</td>\n",
       "      <td>15</td>\n",
       "      <td>생태조성</td>\n",
       "    </tr>\n",
       "    <tr>\n",
       "      <th>4</th>\n",
       "      <td>24</td>\n",
       "      <td>혁신적인 귀농창업교육의 패러다임 제시</td>\n",
       "      <td>공동체</td>\n",
       "      <td>농촌의 생력을 불어넣을 대안으로 귀농귀촌지원정책은 정부,지자체,농협등의 관련기관들이...</td>\n",
       "      <td>2018.08.16</td>\n",
       "      <td>2018.11.13</td>\n",
       "      <td>5</td>\n",
       "      <td>생태조성</td>\n",
       "    </tr>\n",
       "  </tbody>\n",
       "</table>\n",
       "</div>"
      ],
      "text/plain": [
       "   sgId                                  title category  \\\n",
       "0     1  어린이집 차량내 어린이 질식사고 등에 대한 상세한 대책이 필요하다.       안전   \n",
       "1    28                              성희롱 없는 세상       안전   \n",
       "2    26                   행정안전부소속의 온라인 일자리뱅크운영     상생협력   \n",
       "3    25                       농어업,농어촌 특별위원회 설치     국민참여   \n",
       "4    24                   혁신적인 귀농창업교육의 패러다임 제시      공동체   \n",
       "\n",
       "                                             content       start         end  \\\n",
       "0  최근 동두천 어린이집 차량내 어린이 질식사고가 발생하여, 이에 대한 여러가지 대책을...  2018.07.24  2018.08.23   \n",
       "1  현재 우리 사회에서 익숙해진 대형 범죄가 있습니다.바로 몰래카메라입니다.현재 공공건...  2018.08.31  2018.11.28   \n",
       "2  정부각부처에서는 제각각 일자리창출에 혼신의 힘을 쏟고 있습니다.문제는 제각각하다보니...  2018.08.28  2018.11.25   \n",
       "3  청년실업률이 높아지고 일자리 찾기는 점점 어려워지면서농업과 농촌으로 눈을 돌리는 분...  2018.08.19  2018.11.16   \n",
       "4  농촌의 생력을 불어넣을 대안으로 귀농귀촌지원정책은 정부,지자체,농협등의 관련기관들이...  2018.08.16  2018.11.13   \n",
       "\n",
       "   vote author  \n",
       "0    14     헌비  \n",
       "1     3    장대연  \n",
       "2     4   생태조성  \n",
       "3    15   생태조성  \n",
       "4     5   생태조성  "
      ]
     },
     "execution_count": 14,
     "metadata": {},
     "output_type": "execute_result"
    }
   ],
   "source": [
    "pd.read_csv(\"data/suggestion.csv\").head()"
   ]
  },
  {
   "cell_type": "code",
   "execution_count": 15,
   "metadata": {},
   "outputs": [
    {
     "data": {
      "text/plain": [
       "(133, 8)"
      ]
     },
     "execution_count": 15,
     "metadata": {},
     "output_type": "execute_result"
    }
   ],
   "source": [
    "data.shape"
   ]
  },
  {
   "cell_type": "code",
   "execution_count": null,
   "metadata": {},
   "outputs": [],
   "source": []
  }
 ],
 "metadata": {
  "kernelspec": {
   "display_name": "Python 3",
   "language": "python",
   "name": "python3"
  },
  "language_info": {
   "codemirror_mode": {
    "name": "ipython",
    "version": 3
   },
   "file_extension": ".py",
   "mimetype": "text/x-python",
   "name": "python",
   "nbconvert_exporter": "python",
   "pygments_lexer": "ipython3",
   "version": "3.6.1"
  },
  "toc": {
   "base_numbering": 1,
   "nav_menu": {},
   "number_sections": true,
   "sideBar": true,
   "skip_h1_title": false,
   "title_cell": "Table of Contents",
   "title_sidebar": "Contents",
   "toc_cell": false,
   "toc_position": {},
   "toc_section_display": true,
   "toc_window_display": false
  },
  "varInspector": {
   "cols": {
    "lenName": 16,
    "lenType": 16,
    "lenVar": 40
   },
   "kernels_config": {
    "python": {
     "delete_cmd_postfix": "",
     "delete_cmd_prefix": "del ",
     "library": "var_list.py",
     "varRefreshCmd": "print(var_dic_list())"
    },
    "r": {
     "delete_cmd_postfix": ") ",
     "delete_cmd_prefix": "rm(",
     "library": "var_list.r",
     "varRefreshCmd": "cat(var_dic_list()) "
    }
   },
   "types_to_exclude": [
    "module",
    "function",
    "builtin_function_or_method",
    "instance",
    "_Feature"
   ],
   "window_display": false
  }
 },
 "nbformat": 4,
 "nbformat_minor": 2
}
